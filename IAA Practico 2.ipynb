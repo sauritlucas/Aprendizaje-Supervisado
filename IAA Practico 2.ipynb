{
 "cells": [
  {
   "cell_type": "markdown",
   "metadata": {},
   "source": [
    "# Laboratorio 2: Armado de un esquema de aprendizaje automático\n",
    "\n",
    "En el laboratorio final se espera que puedan poner en práctica los conocimientos adquiridos en el curso, trabajando con un conjunto de datos de clasificación.\n",
    "\n",
    "El objetivo es que se introduzcan en el desarrollo de un esquema para hacer tareas de aprendizaje automático: selección de un modelo, ajuste de hiperparámetros y evaluación.\n",
    "\n",
    "El conjunto de datos a utilizar está en `./data/loan_data.csv`. Si abren el archivo verán que al principio (las líneas que empiezan con `#`) describen el conjunto de datos y sus atributos (incluyendo el atributo de etiqueta o clase).\n",
    "\n",
    "Se espera que hagan uso de las herramientas vistas en el curso. Se espera que hagan uso especialmente de las herramientas brindadas por `scikit-learn`."
   ]
  },
  {
   "cell_type": "code",
   "execution_count": 1,
   "metadata": {},
   "outputs": [],
   "source": [
    "import numpy as np\n",
    "import pandas as pd\n",
    "\n",
    "# TODO: Agregar las librerías que hagan falta\n",
    "from sklearn.model_selection import train_test_split"
   ]
  },
  {
   "cell_type": "code",
   "execution_count": 2,
   "metadata": {},
   "outputs": [],
   "source": [
    "# Para fijar la semilla aleatoria\n",
    "from sklearn.pipeline import make_pipeline\n",
    "\n",
    "# Para normalizar\n",
    "from sklearn.preprocessing import StandardScaler\n",
    "\n",
    "# Para predecir la variable objetivo, mediante modelos lineales de clasificación\n",
    "from sklearn.linear_model import SGDClassifier\n",
    "\n",
    "# Métricas: Para evaluar los conjuntos de datos (Train y Test)\n",
    "from sklearn.metrics import (accuracy_score, precision_score, recall_score, f1_score, confusion_matrix)\n",
    "\n",
    "# Para ver la grilla\n",
    "from sklearn.model_selection import (ParameterGrid, GridSearchCV)\n",
    "\n",
    "from sklearn.metrics import classification_report\n",
    "from sklearn.metrics import confusion_matrix"
   ]
  },
  {
   "cell_type": "markdown",
   "metadata": {},
   "source": [
    "## Carga de datos y división en entrenamiento y evaluación\n",
    "\n",
    "La celda siguiente se encarga de la carga de datos (haciendo uso de pandas). Estos serán los que se trabajarán en el resto del laboratorio."
   ]
  },
  {
   "cell_type": "code",
   "execution_count": 3,
   "metadata": {},
   "outputs": [],
   "source": [
    "dataset = pd.read_csv(r\"C:\\Users\\luqqa\\OneDrive\\Escritorio\\DiploDatos\\IntroduccionAprendizajeAutomatico-master\\Lab 2\\loan_data.csv\", comment=\"#\")\n",
    "\n",
    "# División entre instancias y etiquetas\n",
    "X, y = dataset.iloc[:, 1:], dataset.TARGET\n",
    "\n",
    "# división entre entrenamiento y evaluación\n",
    "X_train, X_test, y_train, y_test = train_test_split(X, y, test_size=0.2, random_state=0)"
   ]
  },
  {
   "cell_type": "markdown",
   "metadata": {},
   "source": [
    "\n",
    "Documentación:\n",
    "\n",
    "- https://scikit-learn.org/stable/modules/generated/sklearn.model_selection.train_test_split.html"
   ]
  },
  {
   "cell_type": "markdown",
   "metadata": {},
   "source": [
    "## Ejercicio 1: Descripción de los Datos y la Tarea\n",
    "\n",
    "Responder las siguientes preguntas:\n",
    "\n",
    "1. ¿De qué se trata el conjunto de datos?\n",
    "2. ¿Cuál es la variable objetivo que hay que predecir? ¿Qué significado tiene?\n",
    "3. ¿Qué información (atributos) hay disponible para hacer la predicción?\n",
    "4. ¿Qué atributos imagina ud. que son los más determinantes para la predicción?"
   ]
  },
  {
   "cell_type": "code",
   "execution_count": 4,
   "metadata": {
    "scrolled": true
   },
   "outputs": [
    {
     "data": {
      "text/html": [
       "<div>\n",
       "<style scoped>\n",
       "    .dataframe tbody tr th:only-of-type {\n",
       "        vertical-align: middle;\n",
       "    }\n",
       "\n",
       "    .dataframe tbody tr th {\n",
       "        vertical-align: top;\n",
       "    }\n",
       "\n",
       "    .dataframe thead th {\n",
       "        text-align: right;\n",
       "    }\n",
       "</style>\n",
       "<table border=\"1\" class=\"dataframe\">\n",
       "  <thead>\n",
       "    <tr style=\"text-align: right;\">\n",
       "      <th></th>\n",
       "      <th>TARGET</th>\n",
       "      <th>LOAN</th>\n",
       "      <th>MORTDUE</th>\n",
       "      <th>VALUE</th>\n",
       "      <th>YOJ</th>\n",
       "      <th>DEROG</th>\n",
       "      <th>DELINQ</th>\n",
       "      <th>CLAGE</th>\n",
       "      <th>NINQ</th>\n",
       "      <th>CLNO</th>\n",
       "      <th>DEBTINC</th>\n",
       "    </tr>\n",
       "  </thead>\n",
       "  <tbody>\n",
       "    <tr>\n",
       "      <th>0</th>\n",
       "      <td>0</td>\n",
       "      <td>4700</td>\n",
       "      <td>88026.0</td>\n",
       "      <td>115506.0</td>\n",
       "      <td>6.0</td>\n",
       "      <td>0.0</td>\n",
       "      <td>0.0</td>\n",
       "      <td>182.248332</td>\n",
       "      <td>0.0</td>\n",
       "      <td>27.0</td>\n",
       "      <td>29.209023</td>\n",
       "    </tr>\n",
       "    <tr>\n",
       "      <th>1</th>\n",
       "      <td>0</td>\n",
       "      <td>19300</td>\n",
       "      <td>39926.0</td>\n",
       "      <td>101208.0</td>\n",
       "      <td>4.0</td>\n",
       "      <td>0.0</td>\n",
       "      <td>0.0</td>\n",
       "      <td>140.051638</td>\n",
       "      <td>0.0</td>\n",
       "      <td>14.0</td>\n",
       "      <td>31.545694</td>\n",
       "    </tr>\n",
       "    <tr>\n",
       "      <th>2</th>\n",
       "      <td>0</td>\n",
       "      <td>5700</td>\n",
       "      <td>71556.0</td>\n",
       "      <td>79538.0</td>\n",
       "      <td>2.0</td>\n",
       "      <td>0.0</td>\n",
       "      <td>0.0</td>\n",
       "      <td>92.643085</td>\n",
       "      <td>0.0</td>\n",
       "      <td>15.0</td>\n",
       "      <td>41.210012</td>\n",
       "    </tr>\n",
       "    <tr>\n",
       "      <th>3</th>\n",
       "      <td>0</td>\n",
       "      <td>13000</td>\n",
       "      <td>44875.0</td>\n",
       "      <td>57713.0</td>\n",
       "      <td>0.0</td>\n",
       "      <td>1.0</td>\n",
       "      <td>0.0</td>\n",
       "      <td>184.990324</td>\n",
       "      <td>1.0</td>\n",
       "      <td>12.0</td>\n",
       "      <td>28.602076</td>\n",
       "    </tr>\n",
       "    <tr>\n",
       "      <th>4</th>\n",
       "      <td>0</td>\n",
       "      <td>19300</td>\n",
       "      <td>72752.0</td>\n",
       "      <td>106084.0</td>\n",
       "      <td>11.0</td>\n",
       "      <td>0.0</td>\n",
       "      <td>0.0</td>\n",
       "      <td>193.707100</td>\n",
       "      <td>1.0</td>\n",
       "      <td>13.0</td>\n",
       "      <td>30.686106</td>\n",
       "    </tr>\n",
       "  </tbody>\n",
       "</table>\n",
       "</div>"
      ],
      "text/plain": [
       "   TARGET   LOAN  MORTDUE     VALUE   YOJ  DEROG  DELINQ       CLAGE  NINQ  \\\n",
       "0       0   4700  88026.0  115506.0   6.0    0.0     0.0  182.248332   0.0   \n",
       "1       0  19300  39926.0  101208.0   4.0    0.0     0.0  140.051638   0.0   \n",
       "2       0   5700  71556.0   79538.0   2.0    0.0     0.0   92.643085   0.0   \n",
       "3       0  13000  44875.0   57713.0   0.0    1.0     0.0  184.990324   1.0   \n",
       "4       0  19300  72752.0  106084.0  11.0    0.0     0.0  193.707100   1.0   \n",
       "\n",
       "   CLNO    DEBTINC  \n",
       "0  27.0  29.209023  \n",
       "1  14.0  31.545694  \n",
       "2  15.0  41.210012  \n",
       "3  12.0  28.602076  \n",
       "4  13.0  30.686106  "
      ]
     },
     "execution_count": 4,
     "metadata": {},
     "output_type": "execute_result"
    }
   ],
   "source": [
    "dataset[:5]"
   ]
  },
  {
   "cell_type": "markdown",
   "metadata": {},
   "source": [
    "**RESPUESTAS:**     \n",
    "\n",
    "**1.1** El conjunto de datos **HMEQ** pertenece a datos relevados por el departamento de créditos de un banco. Contiene información sobre el rendimiento de 1.854 préstamos. El objetivo de este dataset es el de poder automatizar el proceso de selección de usuarios candidatos al crédito de viviendas.  \n",
    "\n",
    "**1.2** Nuestra variable objetivo es **TARGET**. Es una variable binaria que indica si se cumple o nó con el préstamo (**1**= No se pagó el crédito; **0**= Se pagó el credito)\n",
    "\n",
    "**1.3** El dataset cuenta con 10 atributos:    \n",
    "* **1-LOAN:** Cantidad de dinero requerido en el préstamo.\n",
    "* **2-MORTDUE:** Suma adeudada en la hipoteca existente.\n",
    "* **3-VALUE:** Valor de la propiedad actual.\n",
    "* **4-YOJ:** Años en el trabajo actual.\n",
    "* **5-DEROG:** Número de informes negativos importantes.\n",
    "* **6-DELINQ:** Número de líneas de crédito en mora.\n",
    "* **7-CLAGE:** Edad de la línea comercial más antigua en meses.\n",
    "* **8-NINQ:** Número de líneas de crédito recientes.\n",
    "* **9-CLNO:** Número de líneas de crédito.\n",
    "* **10-DEBTINC:** Relación Deuda/Ingreso.   \n",
    "\n",
    "**1.4** Posiblemnete los atributos más determinantes sean **LOAN**, **MORTDUE**, **DELINQ**,**CLNO** y **DEBTINC**."
   ]
  },
  {
   "cell_type": "markdown",
   "metadata": {},
   "source": [
    "## Ejercicio 2: Predicción con Modelos Lineales\n",
    "\n",
    "En este ejercicio se entrenarán **modelos lineales de clasificación** para predecir la variable objetivo.\n",
    "\n",
    "Para ello, deberán utilizar la clase SGDClassifier de scikit-learn.\n",
    "\n",
    "Documentación:\n",
    "- https://scikit-learn.org/stable/modules/sgd.html\n",
    "- https://scikit-learn.org/stable/modules/generated/sklearn.linear_model.SGDClassifier.html\n"
   ]
  },
  {
   "cell_type": "markdown",
   "metadata": {},
   "source": [
    "### Ejercicio 2.1: SGDClassifier con hiperparámetros por defecto\n",
    "\n",
    "Entrenar y evaluar el clasificador SGDClassifier usando los valores por omisión de scikit-learn para todos los parámetros. Únicamente **fijar la semilla aleatoria** para hacer repetible el experimento.\n",
    "\n",
    "Evaluar sobre el conjunto de **entrenamiento** y sobre el conjunto de **evaluación**, reportando:\n",
    "- Accuracy\n",
    "- Precision\n",
    "- Recall\n",
    "- F1\n",
    "- matriz de confusión"
   ]
  },
  {
   "cell_type": "code",
   "execution_count": 5,
   "metadata": {},
   "outputs": [
    {
     "data": {
      "text/html": [
       "<div>\n",
       "<style scoped>\n",
       "    .dataframe tbody tr th:only-of-type {\n",
       "        vertical-align: middle;\n",
       "    }\n",
       "\n",
       "    .dataframe tbody tr th {\n",
       "        vertical-align: top;\n",
       "    }\n",
       "\n",
       "    .dataframe thead th {\n",
       "        text-align: right;\n",
       "    }\n",
       "</style>\n",
       "<table border=\"1\" class=\"dataframe\">\n",
       "  <thead>\n",
       "    <tr style=\"text-align: right;\">\n",
       "      <th></th>\n",
       "      <th>count</th>\n",
       "      <th>mean</th>\n",
       "      <th>std</th>\n",
       "      <th>min</th>\n",
       "      <th>25%</th>\n",
       "      <th>50%</th>\n",
       "      <th>75%</th>\n",
       "      <th>max</th>\n",
       "    </tr>\n",
       "  </thead>\n",
       "  <tbody>\n",
       "    <tr>\n",
       "      <th>LOAN</th>\n",
       "      <td>1483.0</td>\n",
       "      <td>19019.487525</td>\n",
       "      <td>10755.943240</td>\n",
       "      <td>1700.000000</td>\n",
       "      <td>12050.000000</td>\n",
       "      <td>17000.000000</td>\n",
       "      <td>23700.000000</td>\n",
       "      <td>89800.000000</td>\n",
       "    </tr>\n",
       "    <tr>\n",
       "      <th>MORTDUE</th>\n",
       "      <td>1483.0</td>\n",
       "      <td>76396.345920</td>\n",
       "      <td>45995.563918</td>\n",
       "      <td>5627.000000</td>\n",
       "      <td>48717.500000</td>\n",
       "      <td>67389.000000</td>\n",
       "      <td>94648.500000</td>\n",
       "      <td>399412.000000</td>\n",
       "    </tr>\n",
       "    <tr>\n",
       "      <th>VALUE</th>\n",
       "      <td>1483.0</td>\n",
       "      <td>107329.562374</td>\n",
       "      <td>55261.111710</td>\n",
       "      <td>21144.000000</td>\n",
       "      <td>71156.000000</td>\n",
       "      <td>94504.000000</td>\n",
       "      <td>124155.500000</td>\n",
       "      <td>512650.000000</td>\n",
       "    </tr>\n",
       "    <tr>\n",
       "      <th>YOJ</th>\n",
       "      <td>1483.0</td>\n",
       "      <td>8.948753</td>\n",
       "      <td>7.577317</td>\n",
       "      <td>0.000000</td>\n",
       "      <td>3.000000</td>\n",
       "      <td>7.000000</td>\n",
       "      <td>13.000000</td>\n",
       "      <td>41.000000</td>\n",
       "    </tr>\n",
       "    <tr>\n",
       "      <th>DEROG</th>\n",
       "      <td>1483.0</td>\n",
       "      <td>0.186109</td>\n",
       "      <td>0.696353</td>\n",
       "      <td>0.000000</td>\n",
       "      <td>0.000000</td>\n",
       "      <td>0.000000</td>\n",
       "      <td>0.000000</td>\n",
       "      <td>10.000000</td>\n",
       "    </tr>\n",
       "    <tr>\n",
       "      <th>DELINQ</th>\n",
       "      <td>1483.0</td>\n",
       "      <td>0.326365</td>\n",
       "      <td>0.925001</td>\n",
       "      <td>0.000000</td>\n",
       "      <td>0.000000</td>\n",
       "      <td>0.000000</td>\n",
       "      <td>0.000000</td>\n",
       "      <td>10.000000</td>\n",
       "    </tr>\n",
       "    <tr>\n",
       "      <th>CLAGE</th>\n",
       "      <td>1483.0</td>\n",
       "      <td>179.558267</td>\n",
       "      <td>85.433422</td>\n",
       "      <td>0.486711</td>\n",
       "      <td>116.439339</td>\n",
       "      <td>174.506408</td>\n",
       "      <td>233.763633</td>\n",
       "      <td>1168.233561</td>\n",
       "    </tr>\n",
       "    <tr>\n",
       "      <th>NINQ</th>\n",
       "      <td>1483.0</td>\n",
       "      <td>1.140931</td>\n",
       "      <td>1.683761</td>\n",
       "      <td>0.000000</td>\n",
       "      <td>0.000000</td>\n",
       "      <td>1.000000</td>\n",
       "      <td>2.000000</td>\n",
       "      <td>11.000000</td>\n",
       "    </tr>\n",
       "    <tr>\n",
       "      <th>CLNO</th>\n",
       "      <td>1483.0</td>\n",
       "      <td>21.859069</td>\n",
       "      <td>9.452400</td>\n",
       "      <td>0.000000</td>\n",
       "      <td>16.000000</td>\n",
       "      <td>21.000000</td>\n",
       "      <td>27.000000</td>\n",
       "      <td>65.000000</td>\n",
       "    </tr>\n",
       "    <tr>\n",
       "      <th>DEBTINC</th>\n",
       "      <td>1483.0</td>\n",
       "      <td>34.538331</td>\n",
       "      <td>9.566838</td>\n",
       "      <td>0.838118</td>\n",
       "      <td>29.293916</td>\n",
       "      <td>35.302774</td>\n",
       "      <td>39.200625</td>\n",
       "      <td>144.189001</td>\n",
       "    </tr>\n",
       "  </tbody>\n",
       "</table>\n",
       "</div>"
      ],
      "text/plain": [
       "          count           mean           std           min           25%  \\\n",
       "LOAN     1483.0   19019.487525  10755.943240   1700.000000  12050.000000   \n",
       "MORTDUE  1483.0   76396.345920  45995.563918   5627.000000  48717.500000   \n",
       "VALUE    1483.0  107329.562374  55261.111710  21144.000000  71156.000000   \n",
       "YOJ      1483.0       8.948753      7.577317      0.000000      3.000000   \n",
       "DEROG    1483.0       0.186109      0.696353      0.000000      0.000000   \n",
       "DELINQ   1483.0       0.326365      0.925001      0.000000      0.000000   \n",
       "CLAGE    1483.0     179.558267     85.433422      0.486711    116.439339   \n",
       "NINQ     1483.0       1.140931      1.683761      0.000000      0.000000   \n",
       "CLNO     1483.0      21.859069      9.452400      0.000000     16.000000   \n",
       "DEBTINC  1483.0      34.538331      9.566838      0.838118     29.293916   \n",
       "\n",
       "                  50%            75%            max  \n",
       "LOAN     17000.000000   23700.000000   89800.000000  \n",
       "MORTDUE  67389.000000   94648.500000  399412.000000  \n",
       "VALUE    94504.000000  124155.500000  512650.000000  \n",
       "YOJ          7.000000      13.000000      41.000000  \n",
       "DEROG        0.000000       0.000000      10.000000  \n",
       "DELINQ       0.000000       0.000000      10.000000  \n",
       "CLAGE      174.506408     233.763633    1168.233561  \n",
       "NINQ         1.000000       2.000000      11.000000  \n",
       "CLNO        21.000000      27.000000      65.000000  \n",
       "DEBTINC     35.302774      39.200625     144.189001  "
      ]
     },
     "execution_count": 5,
     "metadata": {},
     "output_type": "execute_result"
    }
   ],
   "source": [
    "X_train.describe().T"
   ]
  },
  {
   "cell_type": "markdown",
   "metadata": {},
   "source": [
    "Al observar la matriz superior podemos observar que los atributos asumen valores positivos, por lo que sería viable aplicar una regularización previa al desarrollo del modelo. \n",
    "Aplicaremos la regularización L2 para estimar la media de los datos"
   ]
  },
  {
   "cell_type": "code",
   "execution_count": 6,
   "metadata": {},
   "outputs": [],
   "source": [
    "# Regularización por L2\n",
    "X_train_reg = pd.DataFrame()\n",
    "X_test_reg = pd.DataFrame()\n",
    "features = X_train.columns\n",
    "for f in features:\n",
    "    mean_train = X_train[f].mean()\n",
    "    X_train_reg[f] = X_train[f]/mean_train\n",
    "    mean_test = X_test[f].mean()\n",
    "    X_test_reg[f] = X_test[f]/mean_test"
   ]
  },
  {
   "cell_type": "code",
   "execution_count": 7,
   "metadata": {},
   "outputs": [],
   "source": [
    "#from sklearn.linear_model import SGDClassifier\n",
    "#from sklearn.pipeline import make_pipeline\n",
    "#from sklearn.preprocessing import StandardScaler\n",
    "\n",
    "# Fijamos la semilla aleatoria, para que la división sea siempre repetible\n",
    "modelo_SGDC = make_pipeline(StandardScaler(), SGDClassifier(random_state=0))\n",
    "\n",
    "# Entrenamos el modelo\n",
    "modelo_SGDC.fit(X_train_reg, y_train)\n",
    "\n",
    "# Obtenemos los valores predichos\n",
    "y_test_pred = modelo_SGDC.predict(X_test_reg)\n",
    "y_train_pred = modelo_SGDC.predict(X_train_reg)"
   ]
  },
  {
   "cell_type": "code",
   "execution_count": 8,
   "metadata": {},
   "outputs": [
    {
     "name": "stdout",
     "output_type": "stream",
     "text": [
      "TEST REPORT\n",
      "Accuracy: 0.8652291105121294\n",
      "Precision 0.625\n",
      "Recall 0.3448275862068966\n",
      "F1 0.4444444444444445\n",
      "              precision    recall  f1-score   support\n",
      "\n",
      "           0       0.89      0.96      0.92       313\n",
      "           1       0.62      0.34      0.44        58\n",
      "\n",
      "    accuracy                           0.87       371\n",
      "   macro avg       0.76      0.65      0.68       371\n",
      "weighted avg       0.85      0.87      0.85       371\n",
      "\n",
      "Matriz de Confusión TEST:\n"
     ]
    },
    {
     "data": {
      "text/plain": [
       "array([[301,  12],\n",
       "       [ 38,  20]], dtype=int64)"
      ]
     },
     "execution_count": 8,
     "metadata": {},
     "output_type": "execute_result"
    }
   ],
   "source": [
    "#from sklearn.metrics import accuracy_score, precision_score, recall_score, f1_score, confusion_matrix\n",
    "\n",
    "# Evaluación sobre el conjunto de Test\n",
    "print(\"TEST REPORT\")\n",
    "print(\"Accuracy:\",accuracy_score(y_test, y_test_pred))\n",
    "print(\"Precision\",precision_score(y_test, y_test_pred))\n",
    "print(\"Recall\",recall_score(y_test, y_test_pred))\n",
    "print(\"F1\",f1_score(y_test, y_test_pred)) \n",
    "print(classification_report(y_test, y_test_pred))\n",
    "print('Matriz de Confusión TEST:')\n",
    "confusion_matrix(y_test, y_test_pred)"
   ]
  },
  {
   "cell_type": "code",
   "execution_count": 9,
   "metadata": {},
   "outputs": [
    {
     "name": "stdout",
     "output_type": "stream",
     "text": [
      "TRAIN REPORT\n",
      "Accuracy: 0.8732299393122049\n",
      "Precision 0.7142857142857143\n",
      "Recall 0.41832669322709165\n",
      "F1 0.5276381909547739\n",
      "              precision    recall  f1-score   support\n",
      "\n",
      "           0       0.89      0.97      0.93      1232\n",
      "           1       0.71      0.42      0.53       251\n",
      "\n",
      "    accuracy                           0.87      1483\n",
      "   macro avg       0.80      0.69      0.73      1483\n",
      "weighted avg       0.86      0.87      0.86      1483\n",
      "\n",
      "Matriz de Confusión TRAIN:\n"
     ]
    },
    {
     "data": {
      "text/plain": [
       "array([[1190,   42],\n",
       "       [ 146,  105]], dtype=int64)"
      ]
     },
     "execution_count": 9,
     "metadata": {},
     "output_type": "execute_result"
    }
   ],
   "source": [
    "# Evaluación sobre el conjunto de Train\n",
    "print(\"TRAIN REPORT\")\n",
    "print(\"Accuracy:\",accuracy_score(y_train, y_train_pred))\n",
    "print(\"Precision\",precision_score(y_train, y_train_pred))\n",
    "print(\"Recall\",recall_score(y_train, y_train_pred))\n",
    "print(\"F1\",f1_score(y_train, y_train_pred)) \n",
    "print(classification_report(y_train, y_train_pred))\n",
    "print('Matriz de Confusión TRAIN:')\n",
    "confusion_matrix(y_train, y_train_pred)"
   ]
  },
  {
   "cell_type": "markdown",
   "metadata": {},
   "source": [
    "### Comentarios\n",
    "La precisión del modelo en cuanto al poder de clasificación es muy baja e incompatible con el sector financero al que apunta.\n",
    "\n",
    "Tenemos un indice de 0,625 de probabilidad de clasificar correctamente a un prestamista, lo que nos indica un 37,5 % de clasificación erronea.\n",
    "Por su parte el Recall nos indica que el modelo podría identificar al 34% de los prestamistas que efectivamente cumplan con sus acreencias.\n",
    "\n",
    "Por último la combinación de estos 2 indicadores, medido a traves de F1 nos informa un indice de 0,44. \n",
    "\n"
   ]
  },
  {
   "cell_type": "markdown",
   "metadata": {},
   "source": [
    "### Ejercicio 2.2: Ajuste de Hiperparámetros\n",
    "\n",
    "Seleccionar valores para los hiperparámetros principales del SGDClassifier. Como mínimo, probar diferentes funciones de loss, tasas de entrenamiento y tasas de regularización.\n",
    "\n",
    "Para ello, usar grid-search y 5-fold cross-validation sobre el conjunto de entrenamiento para explorar muchas combinaciones posibles de valores.\n",
    "\n",
    "Reportar accuracy promedio y varianza para todas las configuraciones.\n",
    "\n",
    "Para la mejor configuración encontrada, evaluar sobre el conjunto de **entrenamiento** y sobre el conjunto de **evaluación**, reportando:\n",
    "- Accuracy\n",
    "- Precision\n",
    "- Recall\n",
    "- F1\n",
    "- matriz de confusión\n",
    "\n",
    "Documentación:\n",
    "- https://scikit-learn.org/stable/modules/grid_search.html\n",
    "- https://scikit-learn.org/stable/modules/generated/sklearn.model_selection.GridSearchCV.html"
   ]
  },
  {
   "cell_type": "code",
   "execution_count": 84,
   "metadata": {},
   "outputs": [],
   "source": [
    "\n",
    "from sklearn.model_selection import GridSearchCV\n",
    "from sklearn.model_selection import ParameterSampler\n",
    "import numpy as np"
   ]
  },
  {
   "cell_type": "markdown",
   "metadata": {},
   "source": [
    "Encontrar un plazo de regularización razonable se realiza mejor mediante la búsqueda automática de hiperparámetros, por ejemplo , GridSearchCVo RandomizedSearchCV, por lo general, en el rango 10.0**-np.arange(1,7)\n",
    "\n",
    "En base a la documentación utilizaremos ese rango en ALPHA"
   ]
  },
  {
   "cell_type": "code",
   "execution_count": 85,
   "metadata": {},
   "outputs": [],
   "source": [
    "param_grid = {\n",
    "    'loss': ['hinge','log'],\n",
    "    'alpha': 10.0**-np.arange(1,7),\n",
    "    'learning_rate': [\n",
    "        'constant',\n",
    "        'optimal',\n",
    "        'invscaling',\n",
    "        'adaptive'\n",
    "    ],\n",
    "    'eta0': [1e-3,1e-2,1e-1,1,1e1,1e2,1e3,1e4]\n",
    "}"
   ]
  },
  {
   "cell_type": "code",
   "execution_count": 86,
   "metadata": {},
   "outputs": [],
   "source": [
    "model = SGDClassifier(random_state = 0)\n",
    "\n",
    "cv = GridSearchCV(model, param_grid, scoring='accuracy', cv=5)\n",
    "\n",
    "cv.fit(X_train_reg, y_train);"
   ]
  },
  {
   "cell_type": "code",
   "execution_count": 87,
   "metadata": {},
   "outputs": [
    {
     "data": {
      "text/html": [
       "<div>\n",
       "<style scoped>\n",
       "    .dataframe tbody tr th:only-of-type {\n",
       "        vertical-align: middle;\n",
       "    }\n",
       "\n",
       "    .dataframe tbody tr th {\n",
       "        vertical-align: top;\n",
       "    }\n",
       "\n",
       "    .dataframe thead th {\n",
       "        text-align: right;\n",
       "    }\n",
       "</style>\n",
       "<table border=\"1\" class=\"dataframe\">\n",
       "  <thead>\n",
       "    <tr style=\"text-align: right;\">\n",
       "      <th></th>\n",
       "      <th>param_loss</th>\n",
       "      <th>param_alpha</th>\n",
       "      <th>param_learning_rate</th>\n",
       "      <th>param_eta0</th>\n",
       "      <th>mean_test_score</th>\n",
       "      <th>std_test_score</th>\n",
       "      <th>rank_test_score</th>\n",
       "    </tr>\n",
       "  </thead>\n",
       "  <tbody>\n",
       "    <tr>\n",
       "      <th>0</th>\n",
       "      <td>hinge</td>\n",
       "      <td>0.1</td>\n",
       "      <td>constant</td>\n",
       "      <td>0.001</td>\n",
       "      <td>0.847616</td>\n",
       "      <td>0.008979</td>\n",
       "      <td>179</td>\n",
       "    </tr>\n",
       "    <tr>\n",
       "      <th>1</th>\n",
       "      <td>log</td>\n",
       "      <td>0.1</td>\n",
       "      <td>constant</td>\n",
       "      <td>0.001</td>\n",
       "      <td>0.854361</td>\n",
       "      <td>0.011202</td>\n",
       "      <td>106</td>\n",
       "    </tr>\n",
       "    <tr>\n",
       "      <th>2</th>\n",
       "      <td>hinge</td>\n",
       "      <td>0.1</td>\n",
       "      <td>optimal</td>\n",
       "      <td>0.001</td>\n",
       "      <td>0.850307</td>\n",
       "      <td>0.006153</td>\n",
       "      <td>149</td>\n",
       "    </tr>\n",
       "    <tr>\n",
       "      <th>3</th>\n",
       "      <td>log</td>\n",
       "      <td>0.1</td>\n",
       "      <td>optimal</td>\n",
       "      <td>0.001</td>\n",
       "      <td>0.855710</td>\n",
       "      <td>0.011598</td>\n",
       "      <td>79</td>\n",
       "    </tr>\n",
       "    <tr>\n",
       "      <th>4</th>\n",
       "      <td>hinge</td>\n",
       "      <td>0.1</td>\n",
       "      <td>invscaling</td>\n",
       "      <td>0.001</td>\n",
       "      <td>0.835474</td>\n",
       "      <td>0.005639</td>\n",
       "      <td>233</td>\n",
       "    </tr>\n",
       "    <tr>\n",
       "      <th>...</th>\n",
       "      <td>...</td>\n",
       "      <td>...</td>\n",
       "      <td>...</td>\n",
       "      <td>...</td>\n",
       "      <td>...</td>\n",
       "      <td>...</td>\n",
       "      <td>...</td>\n",
       "    </tr>\n",
       "    <tr>\n",
       "      <th>379</th>\n",
       "      <td>log</td>\n",
       "      <td>1e-06</td>\n",
       "      <td>optimal</td>\n",
       "      <td>10000</td>\n",
       "      <td>0.818603</td>\n",
       "      <td>0.031760</td>\n",
       "      <td>300</td>\n",
       "    </tr>\n",
       "    <tr>\n",
       "      <th>380</th>\n",
       "      <td>hinge</td>\n",
       "      <td>1e-06</td>\n",
       "      <td>invscaling</td>\n",
       "      <td>10000</td>\n",
       "      <td>0.824675</td>\n",
       "      <td>0.021287</td>\n",
       "      <td>274</td>\n",
       "    </tr>\n",
       "    <tr>\n",
       "      <th>381</th>\n",
       "      <td>log</td>\n",
       "      <td>1e-06</td>\n",
       "      <td>invscaling</td>\n",
       "      <td>10000</td>\n",
       "      <td>0.793000</td>\n",
       "      <td>0.025363</td>\n",
       "      <td>347</td>\n",
       "    </tr>\n",
       "    <tr>\n",
       "      <th>382</th>\n",
       "      <td>hinge</td>\n",
       "      <td>1e-06</td>\n",
       "      <td>adaptive</td>\n",
       "      <td>10000</td>\n",
       "      <td>0.868528</td>\n",
       "      <td>0.024410</td>\n",
       "      <td>45</td>\n",
       "    </tr>\n",
       "    <tr>\n",
       "      <th>383</th>\n",
       "      <td>log</td>\n",
       "      <td>1e-06</td>\n",
       "      <td>adaptive</td>\n",
       "      <td>10000</td>\n",
       "      <td>0.877280</td>\n",
       "      <td>0.014549</td>\n",
       "      <td>6</td>\n",
       "    </tr>\n",
       "  </tbody>\n",
       "</table>\n",
       "<p>384 rows × 7 columns</p>\n",
       "</div>"
      ],
      "text/plain": [
       "    param_loss param_alpha param_learning_rate param_eta0  mean_test_score  \\\n",
       "0        hinge         0.1            constant      0.001         0.847616   \n",
       "1          log         0.1            constant      0.001         0.854361   \n",
       "2        hinge         0.1             optimal      0.001         0.850307   \n",
       "3          log         0.1             optimal      0.001         0.855710   \n",
       "4        hinge         0.1          invscaling      0.001         0.835474   \n",
       "..         ...         ...                 ...        ...              ...   \n",
       "379        log       1e-06             optimal      10000         0.818603   \n",
       "380      hinge       1e-06          invscaling      10000         0.824675   \n",
       "381        log       1e-06          invscaling      10000         0.793000   \n",
       "382      hinge       1e-06            adaptive      10000         0.868528   \n",
       "383        log       1e-06            adaptive      10000         0.877280   \n",
       "\n",
       "     std_test_score  rank_test_score  \n",
       "0          0.008979              179  \n",
       "1          0.011202              106  \n",
       "2          0.006153              149  \n",
       "3          0.011598               79  \n",
       "4          0.005639              233  \n",
       "..              ...              ...  \n",
       "379        0.031760              300  \n",
       "380        0.021287              274  \n",
       "381        0.025363              347  \n",
       "382        0.024410               45  \n",
       "383        0.014549                6  \n",
       "\n",
       "[384 rows x 7 columns]"
      ]
     },
     "execution_count": 87,
     "metadata": {},
     "output_type": "execute_result"
    }
   ],
   "source": [
    "\n",
    "results = cv.cv_results_\n",
    "df = pd.DataFrame(results)\n",
    "df[['param_loss', 'param_alpha','param_learning_rate','param_eta0', 'mean_test_score', 'std_test_score', 'rank_test_score']]"
   ]
  },
  {
   "cell_type": "markdown",
   "metadata": {},
   "source": [
    "### Evaluamos la mejor configuracion encontrada, tanto sobre el conjunto de entrenamiento como sobre el conjunto de evaluación."
   ]
  },
  {
   "cell_type": "code",
   "execution_count": 91,
   "metadata": {},
   "outputs": [
    {
     "data": {
      "text/html": [
       "<div>\n",
       "<style scoped>\n",
       "    .dataframe tbody tr th:only-of-type {\n",
       "        vertical-align: middle;\n",
       "    }\n",
       "\n",
       "    .dataframe tbody tr th {\n",
       "        vertical-align: top;\n",
       "    }\n",
       "\n",
       "    .dataframe thead th {\n",
       "        text-align: right;\n",
       "    }\n",
       "</style>\n",
       "<table border=\"1\" class=\"dataframe\">\n",
       "  <thead>\n",
       "    <tr style=\"text-align: right;\">\n",
       "      <th></th>\n",
       "      <th>param_loss</th>\n",
       "      <th>param_alpha</th>\n",
       "      <th>param_eta0</th>\n",
       "      <th>param_learning_rate</th>\n",
       "      <th>mean_test_score</th>\n",
       "      <th>std_test_score</th>\n",
       "      <th>rank_test_score</th>\n",
       "    </tr>\n",
       "  </thead>\n",
       "  <tbody>\n",
       "    <tr>\n",
       "      <th>374</th>\n",
       "      <td>hinge</td>\n",
       "      <td>1e-06</td>\n",
       "      <td>1000</td>\n",
       "      <td>adaptive</td>\n",
       "      <td>0.880651</td>\n",
       "      <td>0.018672</td>\n",
       "      <td>1</td>\n",
       "    </tr>\n",
       "  </tbody>\n",
       "</table>\n",
       "</div>"
      ],
      "text/plain": [
       "    param_loss param_alpha param_eta0 param_learning_rate  mean_test_score  \\\n",
       "374      hinge       1e-06       1000            adaptive         0.880651   \n",
       "\n",
       "     std_test_score  rank_test_score  \n",
       "374        0.018672                1  "
      ]
     },
     "execution_count": 91,
     "metadata": {},
     "output_type": "execute_result"
    }
   ],
   "source": [
    "df[df['rank_test_score']<2][['param_loss', 'param_alpha','param_eta0','param_learning_rate', \n",
    "                             'mean_test_score', 'std_test_score', 'rank_test_score']]"
   ]
  },
  {
   "cell_type": "code",
   "execution_count": 88,
   "metadata": {},
   "outputs": [],
   "source": [
    "best_model = cv.best_estimator_"
   ]
  },
  {
   "cell_type": "code",
   "execution_count": 92,
   "metadata": {},
   "outputs": [
    {
     "name": "stdout",
     "output_type": "stream",
     "text": [
      "TRAIN REPORT\n",
      "              precision    recall  f1-score   support\n",
      "\n",
      "           0       0.88      0.98      0.93      1232\n",
      "           1       0.82      0.36      0.50       251\n",
      "\n",
      "    accuracy                           0.88      1483\n",
      "   macro avg       0.85      0.67      0.71      1483\n",
      "weighted avg       0.87      0.88      0.86      1483\n",
      "\n",
      "Matriz de Confusión TRAIN:\n"
     ]
    },
    {
     "data": {
      "text/plain": [
       "array([[1212,   20],\n",
       "       [ 161,   90]], dtype=int64)"
      ]
     },
     "execution_count": 92,
     "metadata": {},
     "output_type": "execute_result"
    }
   ],
   "source": [
    "print(\"TRAIN REPORT\")\n",
    "#Prestando atencion de utilizar X_train_reg\n",
    "y_train_pred = best_model.predict(X_train_reg)\n",
    "print(classification_report(y_train, y_train_pred))\n",
    "print('Matriz de Confusión TRAIN:')\n",
    "confusion_matrix(y_train, y_train_pred)"
   ]
  },
  {
   "cell_type": "code",
   "execution_count": 93,
   "metadata": {},
   "outputs": [
    {
     "name": "stdout",
     "output_type": "stream",
     "text": [
      "TEST REPORT\n",
      "              precision    recall  f1-score   support\n",
      "\n",
      "           0       0.89      0.99      0.93       313\n",
      "           1       0.82      0.31      0.45        58\n",
      "\n",
      "    accuracy                           0.88       371\n",
      "   macro avg       0.85      0.65      0.69       371\n",
      "weighted avg       0.87      0.88      0.86       371\n",
      "\n",
      "Matriz de Confusión TEST:\n"
     ]
    },
    {
     "data": {
      "text/plain": [
       "array([[309,   4],\n",
       "       [ 40,  18]], dtype=int64)"
      ]
     },
     "execution_count": 93,
     "metadata": {},
     "output_type": "execute_result"
    }
   ],
   "source": [
    "print(\"TEST REPORT\")\n",
    "##Prestando atencion de utilizar X_test_reg\n",
    "y_test_pred = best_model.predict(X_test_reg)\n",
    "print(classification_report(y_test, y_test_pred))\n",
    "print('Matriz de Confusión TEST:')\n",
    "confusion_matrix(y_test, y_test_pred)"
   ]
  },
  {
   "cell_type": "markdown",
   "metadata": {},
   "source": [
    "### Comentarios\n",
    "A traves de esta técnica  SGDClassifier de setear algunos parametros, podemos observar una mejora de la Precision con respecto al modelo con hiperparametros por defecto. Pero a su vez observamos una caída en el recall\n",
    "\n",
    "En base a esos 2 valores obtenidos, el f1-score termina siendo de 0,45 una subida de 0,01 con respecto al modelo con hiperparametros por defecto.\n",
    "\n",
    "#### Aclaración, usuarios con más habilidad en el seteo de parámetros podrían obtener mejores resultados. Personalmente estoy iniciandome en la herramienta\n"
   ]
  },
  {
   "cell_type": "markdown",
   "metadata": {},
   "source": [
    "## Ejercicio 3: Árboles de Decisión\n",
    "\n",
    "En este ejercicio se entrenarán árboles de decisión para predecir la variable objetivo.\n",
    "\n",
    "Para ello, deberán utilizar la clase DecisionTreeClassifier de scikit-learn.\n",
    "\n",
    "Documentación:\n",
    "- https://scikit-learn.org/stable/modules/tree.html\n",
    "  - https://scikit-learn.org/stable/modules/tree.html#tips-on-practical-use\n",
    "- https://scikit-learn.org/stable/modules/generated/sklearn.tree.DecisionTreeClassifier.html\n",
    "- https://scikit-learn.org/stable/auto_examples/tree/plot_unveil_tree_structure.html"
   ]
  },
  {
   "cell_type": "markdown",
   "metadata": {},
   "source": [
    "### Ejercicio 3.1: DecisionTreeClassifier con hiperparámetros por defecto\n",
    "\n",
    "Entrenar y evaluar el clasificador DecisionTreeClassifier usando los valores por omisión de scikit-learn para todos los parámetros. Únicamente **fijar la semilla aleatoria** para hacer repetible el experimento.\n",
    "\n",
    "Evaluar sobre el conjunto de **entrenamiento** y sobre el conjunto de **evaluación**, reportando:\n",
    "- Accuracy\n",
    "- Precision\n",
    "- Recall\n",
    "- F1\n",
    "- matriz de confusión\n"
   ]
  },
  {
   "cell_type": "code",
   "execution_count": 53,
   "metadata": {},
   "outputs": [
    {
     "data": {
      "text/plain": [
       "DecisionTreeClassifier(random_state=0)"
      ]
     },
     "execution_count": 53,
     "metadata": {},
     "output_type": "execute_result"
    }
   ],
   "source": [
    "from sklearn.tree import DecisionTreeClassifier\n",
    "clf = DecisionTreeClassifier(random_state=0)\n",
    "clf.fit(X_train, y_train)"
   ]
  },
  {
   "cell_type": "code",
   "execution_count": 54,
   "metadata": {},
   "outputs": [],
   "source": [
    "y_train_pred = clf.predict(X_train)\n",
    "y_test_pred = clf.predict(X_test)"
   ]
  },
  {
   "cell_type": "code",
   "execution_count": 55,
   "metadata": {},
   "outputs": [
    {
     "name": "stdout",
     "output_type": "stream",
     "text": [
      "TRAIN REPORT\n",
      "              precision    recall  f1-score   support\n",
      "\n",
      "           0       1.00      1.00      1.00      1232\n",
      "           1       1.00      1.00      1.00       251\n",
      "\n",
      "    accuracy                           1.00      1483\n",
      "   macro avg       1.00      1.00      1.00      1483\n",
      "weighted avg       1.00      1.00      1.00      1483\n",
      "\n"
     ]
    },
    {
     "data": {
      "text/plain": [
       "array([[1232,    0],\n",
       "       [   0,  251]], dtype=int64)"
      ]
     },
     "execution_count": 55,
     "metadata": {},
     "output_type": "execute_result"
    }
   ],
   "source": [
    "print(\"TRAIN REPORT\")\n",
    "print(classification_report(y_train, y_train_pred))\n",
    "confusion_matrix(y_train, y_train_pred)"
   ]
  },
  {
   "cell_type": "code",
   "execution_count": 56,
   "metadata": {},
   "outputs": [
    {
     "name": "stdout",
     "output_type": "stream",
     "text": [
      "TEST REPORT\n",
      "              precision    recall  f1-score   support\n",
      "\n",
      "           0       0.93      0.93      0.93       313\n",
      "           1       0.62      0.64      0.63        58\n",
      "\n",
      "    accuracy                           0.88       371\n",
      "   macro avg       0.77      0.78      0.78       371\n",
      "weighted avg       0.88      0.88      0.88       371\n",
      "\n"
     ]
    },
    {
     "data": {
      "text/plain": [
       "array([[290,  23],\n",
       "       [ 21,  37]], dtype=int64)"
      ]
     },
     "execution_count": 56,
     "metadata": {},
     "output_type": "execute_result"
    }
   ],
   "source": [
    "print(\"TEST REPORT\")\n",
    "print(classification_report(y_test, y_test_pred))\n",
    "confusion_matrix(y_test, y_test_pred)"
   ]
  },
  {
   "cell_type": "markdown",
   "metadata": {},
   "source": [
    "### Comentarios\n",
    "En base a los mismos criterios de los analisis anteriores, se observa que las combinaciones entre la Precision y el Recall obtenidos en el modelo otrogan al modelo un F1-SCORE de 0,63 notablemente superior a los obtenidos anteriormente."
   ]
  },
  {
   "cell_type": "markdown",
   "metadata": {},
   "source": [
    "### Ejercicio 3.2: Ajuste de Hiperparámetros\n",
    "\n",
    "Seleccionar valores para los hiperparámetros principales del DecisionTreeClassifier. Como mínimo, probar diferentes criterios de partición (criterion), profundidad máxima del árbol (max_depth), y cantidad mínima de samples por hoja (min_samples_leaf).\n",
    "\n",
    "Para ello, usar grid-search y 5-fold cross-validation sobre el conjunto de entrenamiento para explorar muchas combinaciones posibles de valores.\n",
    "\n",
    "Reportar accuracy promedio y varianza para todas las configuraciones.\n",
    "\n",
    "Para la mejor configuración encontrada, evaluar sobre el conjunto de **entrenamiento** y sobre el conjunto de **evaluación**, reportando:\n",
    "- Accuracy\n",
    "- Precision\n",
    "- Recall\n",
    "- F1\n",
    "- matriz de confusión\n",
    "\n",
    "\n",
    "Documentación:\n",
    "- https://scikit-learn.org/stable/modules/grid_search.html\n",
    "- https://scikit-learn.org/stable/modules/generated/sklearn.model_selection.GridSearchCV.html"
   ]
  },
  {
   "cell_type": "code",
   "execution_count": 57,
   "metadata": {},
   "outputs": [],
   "source": [
    "param_gridTree = {\n",
    "    'criterion': ['gini', 'entropy'],\n",
    "    'max_depth':  list(range(1,10)) ,\n",
    "    'min_samples_leaf' :  list(range(1,9)) \n",
    "} "
   ]
  },
  {
   "cell_type": "code",
   "execution_count": 58,
   "metadata": {},
   "outputs": [],
   "source": [
    "model = DecisionTreeClassifier(random_state = 0)\n",
    "cv = GridSearchCV(model, param_gridTree, scoring='accuracy', cv=5)\n",
    "cv.fit(X_train, y_train);"
   ]
  },
  {
   "cell_type": "code",
   "execution_count": 60,
   "metadata": {},
   "outputs": [
    {
     "data": {
      "text/html": [
       "<div>\n",
       "<style scoped>\n",
       "    .dataframe tbody tr th:only-of-type {\n",
       "        vertical-align: middle;\n",
       "    }\n",
       "\n",
       "    .dataframe tbody tr th {\n",
       "        vertical-align: top;\n",
       "    }\n",
       "\n",
       "    .dataframe thead th {\n",
       "        text-align: right;\n",
       "    }\n",
       "</style>\n",
       "<table border=\"1\" class=\"dataframe\">\n",
       "  <thead>\n",
       "    <tr style=\"text-align: right;\">\n",
       "      <th></th>\n",
       "      <th>param_criterion</th>\n",
       "      <th>param_max_depth</th>\n",
       "      <th>param_min_samples_leaf</th>\n",
       "      <th>mean_test_score</th>\n",
       "      <th>std_test_score</th>\n",
       "      <th>rank_test_score</th>\n",
       "    </tr>\n",
       "  </thead>\n",
       "  <tbody>\n",
       "    <tr>\n",
       "      <th>0</th>\n",
       "      <td>gini</td>\n",
       "      <td>1</td>\n",
       "      <td>1</td>\n",
       "      <td>0.869194</td>\n",
       "      <td>0.009254</td>\n",
       "      <td>98</td>\n",
       "    </tr>\n",
       "    <tr>\n",
       "      <th>1</th>\n",
       "      <td>gini</td>\n",
       "      <td>1</td>\n",
       "      <td>2</td>\n",
       "      <td>0.869194</td>\n",
       "      <td>0.009254</td>\n",
       "      <td>98</td>\n",
       "    </tr>\n",
       "    <tr>\n",
       "      <th>2</th>\n",
       "      <td>gini</td>\n",
       "      <td>1</td>\n",
       "      <td>3</td>\n",
       "      <td>0.869194</td>\n",
       "      <td>0.009254</td>\n",
       "      <td>98</td>\n",
       "    </tr>\n",
       "    <tr>\n",
       "      <th>3</th>\n",
       "      <td>gini</td>\n",
       "      <td>1</td>\n",
       "      <td>4</td>\n",
       "      <td>0.869194</td>\n",
       "      <td>0.009254</td>\n",
       "      <td>98</td>\n",
       "    </tr>\n",
       "    <tr>\n",
       "      <th>4</th>\n",
       "      <td>gini</td>\n",
       "      <td>1</td>\n",
       "      <td>5</td>\n",
       "      <td>0.869194</td>\n",
       "      <td>0.009254</td>\n",
       "      <td>98</td>\n",
       "    </tr>\n",
       "    <tr>\n",
       "      <th>...</th>\n",
       "      <td>...</td>\n",
       "      <td>...</td>\n",
       "      <td>...</td>\n",
       "      <td>...</td>\n",
       "      <td>...</td>\n",
       "      <td>...</td>\n",
       "    </tr>\n",
       "    <tr>\n",
       "      <th>139</th>\n",
       "      <td>entropy</td>\n",
       "      <td>9</td>\n",
       "      <td>4</td>\n",
       "      <td>0.861782</td>\n",
       "      <td>0.020880</td>\n",
       "      <td>136</td>\n",
       "    </tr>\n",
       "    <tr>\n",
       "      <th>140</th>\n",
       "      <td>entropy</td>\n",
       "      <td>9</td>\n",
       "      <td>5</td>\n",
       "      <td>0.847627</td>\n",
       "      <td>0.024845</td>\n",
       "      <td>141</td>\n",
       "    </tr>\n",
       "    <tr>\n",
       "      <th>141</th>\n",
       "      <td>entropy</td>\n",
       "      <td>9</td>\n",
       "      <td>6</td>\n",
       "      <td>0.844924</td>\n",
       "      <td>0.025380</td>\n",
       "      <td>143</td>\n",
       "    </tr>\n",
       "    <tr>\n",
       "      <th>142</th>\n",
       "      <td>entropy</td>\n",
       "      <td>9</td>\n",
       "      <td>7</td>\n",
       "      <td>0.842224</td>\n",
       "      <td>0.020619</td>\n",
       "      <td>144</td>\n",
       "    </tr>\n",
       "    <tr>\n",
       "      <th>143</th>\n",
       "      <td>entropy</td>\n",
       "      <td>9</td>\n",
       "      <td>8</td>\n",
       "      <td>0.847604</td>\n",
       "      <td>0.016294</td>\n",
       "      <td>142</td>\n",
       "    </tr>\n",
       "  </tbody>\n",
       "</table>\n",
       "<p>144 rows × 6 columns</p>\n",
       "</div>"
      ],
      "text/plain": [
       "    param_criterion param_max_depth param_min_samples_leaf  mean_test_score  \\\n",
       "0              gini               1                      1         0.869194   \n",
       "1              gini               1                      2         0.869194   \n",
       "2              gini               1                      3         0.869194   \n",
       "3              gini               1                      4         0.869194   \n",
       "4              gini               1                      5         0.869194   \n",
       "..              ...             ...                    ...              ...   \n",
       "139         entropy               9                      4         0.861782   \n",
       "140         entropy               9                      5         0.847627   \n",
       "141         entropy               9                      6         0.844924   \n",
       "142         entropy               9                      7         0.842224   \n",
       "143         entropy               9                      8         0.847604   \n",
       "\n",
       "     std_test_score  rank_test_score  \n",
       "0          0.009254               98  \n",
       "1          0.009254               98  \n",
       "2          0.009254               98  \n",
       "3          0.009254               98  \n",
       "4          0.009254               98  \n",
       "..              ...              ...  \n",
       "139        0.020880              136  \n",
       "140        0.024845              141  \n",
       "141        0.025380              143  \n",
       "142        0.020619              144  \n",
       "143        0.016294              142  \n",
       "\n",
       "[144 rows x 6 columns]"
      ]
     },
     "execution_count": 60,
     "metadata": {},
     "output_type": "execute_result"
    }
   ],
   "source": [
    "results = cv.cv_results_\n",
    "df = pd.DataFrame(results)\n",
    "df[['param_criterion', 'param_max_depth','param_min_samples_leaf', 'mean_test_score', 'std_test_score', 'rank_test_score']]"
   ]
  },
  {
   "cell_type": "code",
   "execution_count": 61,
   "metadata": {},
   "outputs": [
    {
     "data": {
      "text/html": [
       "<div>\n",
       "<style scoped>\n",
       "    .dataframe tbody tr th:only-of-type {\n",
       "        vertical-align: middle;\n",
       "    }\n",
       "\n",
       "    .dataframe tbody tr th {\n",
       "        vertical-align: top;\n",
       "    }\n",
       "\n",
       "    .dataframe thead th {\n",
       "        text-align: right;\n",
       "    }\n",
       "</style>\n",
       "<table border=\"1\" class=\"dataframe\">\n",
       "  <thead>\n",
       "    <tr style=\"text-align: right;\">\n",
       "      <th></th>\n",
       "      <th>param_criterion</th>\n",
       "      <th>param_max_depth</th>\n",
       "      <th>param_min_samples_leaf</th>\n",
       "      <th>mean_test_score</th>\n",
       "      <th>std_test_score</th>\n",
       "      <th>rank_test_score</th>\n",
       "    </tr>\n",
       "  </thead>\n",
       "  <tbody>\n",
       "    <tr>\n",
       "      <th>130</th>\n",
       "      <td>entropy</td>\n",
       "      <td>8</td>\n",
       "      <td>3</td>\n",
       "      <td>0.881991</td>\n",
       "      <td>0.011551</td>\n",
       "      <td>1</td>\n",
       "    </tr>\n",
       "  </tbody>\n",
       "</table>\n",
       "</div>"
      ],
      "text/plain": [
       "    param_criterion param_max_depth param_min_samples_leaf  mean_test_score  \\\n",
       "130         entropy               8                      3         0.881991   \n",
       "\n",
       "     std_test_score  rank_test_score  \n",
       "130        0.011551                1  "
      ]
     },
     "execution_count": 61,
     "metadata": {},
     "output_type": "execute_result"
    }
   ],
   "source": [
    "df[df['rank_test_score']<2][['param_criterion','param_max_depth','param_min_samples_leaf', \n",
    "                             'mean_test_score', 'std_test_score', 'rank_test_score']]"
   ]
  },
  {
   "cell_type": "code",
   "execution_count": 62,
   "metadata": {},
   "outputs": [],
   "source": [
    "best_model = cv.best_estimator_"
   ]
  },
  {
   "cell_type": "markdown",
   "metadata": {},
   "source": [
    "## Entrenamos y evaluamos el modelo"
   ]
  },
  {
   "cell_type": "code",
   "execution_count": 63,
   "metadata": {},
   "outputs": [
    {
     "name": "stdout",
     "output_type": "stream",
     "text": [
      "TRAIN REPORT\n",
      "              precision    recall  f1-score   support\n",
      "\n",
      "           0       0.93      0.99      0.96      1232\n",
      "           1       0.91      0.66      0.76       251\n",
      "\n",
      "    accuracy                           0.93      1483\n",
      "   macro avg       0.92      0.82      0.86      1483\n",
      "weighted avg       0.93      0.93      0.93      1483\n",
      "\n",
      "Matriz de Confusión TRAIN:\n"
     ]
    },
    {
     "data": {
      "text/plain": [
       "array([[1215,   17],\n",
       "       [  86,  165]], dtype=int64)"
      ]
     },
     "execution_count": 63,
     "metadata": {},
     "output_type": "execute_result"
    }
   ],
   "source": [
    "print(\"TRAIN REPORT\")\n",
    "y_train_pred = best_model.predict(X_train)\n",
    "print(classification_report(y_train, y_train_pred))\n",
    "print('Matriz de Confusión TRAIN:')\n",
    "confusion_matrix(y_train, y_train_pred)"
   ]
  },
  {
   "cell_type": "code",
   "execution_count": 64,
   "metadata": {},
   "outputs": [
    {
     "name": "stdout",
     "output_type": "stream",
     "text": [
      "TEST REPORT\n",
      "              precision    recall  f1-score   support\n",
      "\n",
      "           0       0.92      0.95      0.93       313\n",
      "           1       0.66      0.57      0.61        58\n",
      "\n",
      "    accuracy                           0.89       371\n",
      "   macro avg       0.79      0.76      0.77       371\n",
      "weighted avg       0.88      0.89      0.88       371\n",
      "\n",
      "Matriz de Confusión TEST:\n"
     ]
    },
    {
     "data": {
      "text/plain": [
       "array([[296,  17],\n",
       "       [ 25,  33]], dtype=int64)"
      ]
     },
     "execution_count": 64,
     "metadata": {},
     "output_type": "execute_result"
    }
   ],
   "source": [
    "print(\"TEST REPORT\")\n",
    "y_test_pred = best_model.predict(X_test)\n",
    "print(classification_report(y_test, y_test_pred))\n",
    "print('Matriz de Confusión TEST:')\n",
    "confusion_matrix(y_test, y_test_pred)"
   ]
  },
  {
   "cell_type": "markdown",
   "metadata": {},
   "source": [
    "### Comentarios\n",
    "En este caso el ajuste de parametros nos jugo en contra, haciendo descender el F1-SCORE a 0,61.\n",
    "\n",
    "## CONCLUSION\n",
    "###### En base al estudio realizado el modelo que mejor se adapta al set de datos es DecisionTreeClassifier con hiperparámetros por defecto."
   ]
  },
  {
   "cell_type": "markdown",
   "metadata": {},
   "source": [
    "### Ejercicio 3.3: Inspección del Modelo"
   ]
  },
  {
   "cell_type": "code",
   "execution_count": 83,
   "metadata": {},
   "outputs": [
    {
     "data": {
      "image/png": "[encoded data removed]",
      "text/plain": [
       "<Figure size 2520x1440 with 1 Axes>"
      ]
     },
     "metadata": {
      "needs_background": "light"
     },
     "output_type": "display_data"
    }
   ],
   "source": [
    "from sklearn.tree import plot_tree\n",
    "import matplotlib.pyplot as plt\n",
    "fig=plt.figure(figsize=(35,20))\n",
    "\n",
    "plot_tree(best_model, max_depth=2);\n"
   ]
  },
  {
   "cell_type": "code",
   "execution_count": null,
   "metadata": {},
   "outputs": [],
   "source": []
  },
  {
   "cell_type": "code",
   "execution_count": null,
   "metadata": {},
   "outputs": [],
   "source": []
  }
 ],
 "metadata": {
  "kernelspec": {
   "display_name": "Python 3",
   "language": "python",
   "name": "python3"
  },
  "language_info": {
   "codemirror_mode": {
    "name": "ipython",
    "version": 3
   },
   "file_extension": ".py",
   "mimetype": "text/x-python",
   "name": "python",
   "nbconvert_exporter": "python",
   "pygments_lexer": "ipython3",
   "version": "3.7.7"
  }
 },
 "nbformat": 4,
 "nbformat_minor": 4
}
